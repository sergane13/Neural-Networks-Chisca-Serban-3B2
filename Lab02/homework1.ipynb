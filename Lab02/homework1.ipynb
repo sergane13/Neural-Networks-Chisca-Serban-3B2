{
 "cells": [
  {
   "cell_type": "code",
   "execution_count": 2,
   "metadata": {},
   "outputs": [],
   "source": [
    "import re"
   ]
  },
  {
   "cell_type": "code",
   "execution_count": 3,
   "metadata": {},
   "outputs": [],
   "source": [
    "# Ex 1\n",
    "def parseEquation():\n",
    "    with open('equation.txt', 'r') as file:\n",
    "        \n",
    "        A = []\n",
    "        B = []\n",
    "        \n",
    "        for line in file:\n",
    "            line = line.strip()\n",
    "            left_side, right_side = line.split('=')\n",
    "            \n",
    "            B.append(float(right_side.strip()))\n",
    "            \n",
    "            terms = re.findall(r'([+-]?[\\d]*\\.?[\\d]*)\\s*([xyz])', left_side)\n",
    "            coefficients = [0, 0, 0]\n",
    "\n",
    "            for term in terms:\n",
    "                coeff, var = term\n",
    "                \n",
    "                if coeff == '' or coeff == '+':\n",
    "                    coeff = 1.0\n",
    "                elif coeff == '-':\n",
    "                    coeff = -1.0\n",
    "                else:\n",
    "                    coeff = float(coeff)\n",
    "                \n",
    "                if var == 'x':\n",
    "                    coefficients[0] = coeff\n",
    "                elif var == 'y':\n",
    "                    coefficients[1] = coeff\n",
    "                elif var == 'z':\n",
    "                    coefficients[2] = coeff\n",
    "                \n",
    "            A.append(coefficients)\n",
    "            \n",
    "        return A,B"
   ]
  },
  {
   "cell_type": "code",
   "execution_count": 41,
   "metadata": {},
   "outputs": [
    {
     "name": "stdout",
     "output_type": "stream",
     "text": [
      "14.0\n"
     ]
    }
   ],
   "source": [
    "# Ex 2\n",
    "# Determinant\n",
    "\n",
    "A, _ = parseEquation()\n",
    "\n",
    "def determinant3x3(matrix):\n",
    "    a, b, c = matrix[0]\n",
    "    d, e, f = matrix[1]\n",
    "    g, h, i = matrix[2]\n",
    "    \n",
    "    return (a * (e * i - f * h) - b * (d * i - f * g) + c * (d * h - e * g))\n",
    "\n",
    "print(determinant3x3(A))\n"
   ]
  },
  {
   "cell_type": "code",
   "execution_count": 14,
   "metadata": {},
   "outputs": [
    {
     "name": "stdout",
     "output_type": "stream",
     "text": [
      "3.0\n"
     ]
    }
   ],
   "source": [
    "# Ex 2\n",
    "# Trace\n",
    "\n",
    "A, _ = parseEquation()\n",
    "\n",
    "def trace(matrix):\n",
    "    diag_sum = 0\n",
    "    for i in range(len(matrix)):\n",
    "        diag_sum += matrix[i][i]\n",
    "    \n",
    "    return diag_sum\n",
    "\n",
    "print(trace(A))\n"
   ]
  },
  {
   "cell_type": "code",
   "execution_count": 25,
   "metadata": {},
   "outputs": [
    {
     "name": "stdout",
     "output_type": "stream",
     "text": [
      "10.488088481701515\n"
     ]
    }
   ],
   "source": [
    "# Ex 2\n",
    "# Vector Norm\n",
    "\n",
    "_, B = parseEquation()\n",
    "\n",
    "def vectorNorm(matrix):\n",
    "    sum = 0\n",
    "    \n",
    "    for element in matrix:\n",
    "        sum += element * element\n",
    "    \n",
    "    return sum ** 0.5\n",
    "\n",
    "print(vectorNorm(B))"
   ]
  },
  {
   "cell_type": "code",
   "execution_count": 28,
   "metadata": {},
   "outputs": [
    {
     "name": "stdout",
     "output_type": "stream",
     "text": [
      "[[2.0, 1.0, 3.0], [3.0, -1.0, 1.0], [-1.0, 4.0, 2.0]]\n"
     ]
    }
   ],
   "source": [
    "# Ex 2\n",
    "# Transpose\n",
    "\n",
    "A, B = parseEquation()\n",
    "\n",
    "def transpose(matrix):\n",
    "    rowsNumber = len(matrix)\n",
    "    columnsNumber = len(matrix[0])\n",
    "    \n",
    "    transposed = [[0] * rowsNumber for _ in range(columnsNumber)]\n",
    "    for i in range(rowsNumber):\n",
    "            for j in range(columnsNumber):\n",
    "                transposed[j][i] = matrix[i][j]\n",
    "                \n",
    "    return transposed\n",
    "\n",
    "print(transpose(A))"
   ]
  },
  {
   "cell_type": "code",
   "execution_count": 30,
   "metadata": {},
   "outputs": [
    {
     "name": "stdout",
     "output_type": "stream",
     "text": [
      "[21.0, 27.0, 35.0]\n"
     ]
    }
   ],
   "source": [
    "# Ex 2\n",
    "# Vector Multiplication\n",
    "\n",
    "def vectorMultiplication(matrix, vector):\n",
    "    num_rows = len(matrix)\n",
    "    num_cols = len(matrix[0])\n",
    "    \n",
    "    result = [0] * num_rows\n",
    "\n",
    "    for i in range(num_rows):\n",
    "            for j in range(num_cols):\n",
    "                result[i] += matrix[i][j] * vector[j]\n",
    "\n",
    "    return result\n",
    "\n",
    "A, B = parseEquation()\n",
    "\n",
    "print(vectorMultiplication(A, B))\n"
   ]
  },
  {
   "cell_type": "code",
   "execution_count": 46,
   "metadata": {},
   "outputs": [
    {
     "name": "stdout",
     "output_type": "stream",
     "text": [
      "(4.142857142857143, 4.0, -2.4285714285714284)\n"
     ]
    }
   ],
   "source": [
    "# Ex 3\n",
    "# Regula lui Cramer\n",
    "\n",
    "A, B = parseEquation()\n",
    "\n",
    "def crammer(matrix, vector):\n",
    "    matrix_x = [row[:] for row in matrix]\n",
    "    matrix_x[0] = vector\n",
    "    \n",
    "    matrix_y = [row[:] for row in matrix]\n",
    "    matrix_y[1] = vector\n",
    "    \n",
    "    matrix_z = [row[:] for row in matrix]\n",
    "    matrix_z[2] = vector\n",
    "    \n",
    "    det = determinant3x3(matrix)\n",
    "\n",
    "    detx = determinant3x3(matrix_x)\n",
    "    dety = determinant3x3(matrix_y)\n",
    "    detz = determinant3x3(matrix_z)\n",
    "    \n",
    "    return detx/det, dety/det, detz/det\n",
    "\n",
    "\n",
    "print(crammer(A,B))"
   ]
  },
  {
   "cell_type": "code",
   "execution_count": 60,
   "metadata": {},
   "outputs": [
    {
     "name": "stdout",
     "output_type": "stream",
     "text": [
      "[[-0.42857142857142855, -0.5, 0.7857142857142857], [0.7142857142857142, 0.5, -0.6428571428571428], [0.2857142857142857, 0.5, -0.3571428571428571]]\n"
     ]
    }
   ],
   "source": [
    "# Ex 4\n",
    "# Solving Inversion\n",
    "\n",
    "A, B = parseEquation()\n",
    "\n",
    "def cofactorMatrix(matrix):\n",
    "    size = len(matrix)\n",
    "    cofactor_matrix = []\n",
    "\n",
    "    for i in range(size):\n",
    "        cofactor_row = []\n",
    "        for j in range(size):\n",
    "            submatrix = [\n",
    "                [matrix[x][y] for y in range(size) if y != j] \n",
    "                for x in range(size) if x != i\n",
    "            ]\n",
    "\n",
    "            det = submatrix[0][0] * submatrix[1][1] - submatrix[0][1] * submatrix[1][0]\n",
    "            \n",
    "            cofactor = ((-1) ** (i + j)) * det\n",
    "            cofactor_row.append(cofactor)\n",
    "\n",
    "        cofactor_matrix.append(cofactor_row)\n",
    "\n",
    "    return cofactor_matrix\n",
    "\n",
    "def multiplyByScalar(matrix, scalar):\n",
    "    result_matrix = []\n",
    "    \n",
    "    for row in matrix:\n",
    "        result_row = [element * scalar for element in row]\n",
    "        result_matrix.append(result_row)\n",
    "\n",
    "    return result_matrix\n",
    "\n",
    "def findingInverse(matrix):\n",
    "    det = determinant3x3(matrix)\n",
    "    \n",
    "    cofactorsMatrix = cofactorMatrix(matrix)\n",
    "    cofactorsMatrixTranspose = transpose(cofactorsMatrix)\n",
    "    \n",
    "    inverse = multiplyByScalar(cofactorsMatrixTranspose, 1/det)\n",
    "    \n",
    "    return inverse\n",
    "\n",
    "print(findingInverse(A))\n",
    "    \n",
    "\n",
    "    "
   ]
  }
 ],
 "metadata": {
  "kernelspec": {
   "display_name": "env",
   "language": "python",
   "name": "python3"
  },
  "language_info": {
   "codemirror_mode": {
    "name": "ipython",
    "version": 3
   },
   "file_extension": ".py",
   "mimetype": "text/x-python",
   "name": "python",
   "nbconvert_exporter": "python",
   "pygments_lexer": "ipython3",
   "version": "3.12.7"
  }
 },
 "nbformat": 4,
 "nbformat_minor": 2
}
